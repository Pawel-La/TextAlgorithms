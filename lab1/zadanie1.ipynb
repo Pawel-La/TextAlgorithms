{
 "cells": [
  {
   "cell_type": "markdown",
   "id": "444686f9",
   "metadata": {},
   "source": [
    "# Dopasowanie wzorca do tekstu"
   ]
  },
  {
   "cell_type": "code",
   "execution_count": 38,
   "id": "d19aae72",
   "metadata": {},
   "outputs": [],
   "source": [
    "import time\n",
    "import pandas as pd\n",
    "import matplotlib.pyplot as plt\n",
    "import numpy as np"
   ]
  },
  {
   "cell_type": "markdown",
   "id": "c2413229",
   "metadata": {},
   "source": [
    "### Wszystkie algorytmy zostały zaimplementowane jako klasy z funkcją solve, która rozwiązuje problem i zwraca wynik razem z pomiarami czasów pre-proccesingu i wyszukiwania wzorca"
   ]
  },
  {
   "cell_type": "markdown",
   "id": "3b6609a1",
   "metadata": {},
   "source": [
    "## 1. Algorytm naiwny"
   ]
  },
  {
   "cell_type": "code",
   "execution_count": 5,
   "id": "6793df45",
   "metadata": {},
   "outputs": [],
   "source": [
    "class naive_algorithm:\n",
    "    def __init__(self, text, pattern):\n",
    "        self.text = text\n",
    "        self.pattern = pattern\n",
    "        \n",
    "    def naive_string_matching(self):\n",
    "        positive_shifts = []\n",
    "\n",
    "        for shift in range(len(self.text) - len(self.pattern) + 1):\n",
    "            if self.pattern == self.text[shift: shift + len(self.pattern)]:\n",
    "                positive_shifts.append(shift)\n",
    "        return positive_shifts\n",
    "    \n",
    "    def solve(self):\n",
    "        time_start = time.time()\n",
    "        result = self.naive_string_matching()\n",
    "        time_end = time.time()\n",
    "        \n",
    "        time_of_preprocessing = 0.0\n",
    "        time_of_searching = time_end - time_start\n",
    "        return result, time_of_preprocessing, time_of_searching"
   ]
  },
  {
   "cell_type": "markdown",
   "id": "e6acc827",
   "metadata": {},
   "source": [
    "## 2. Algorytm automatu skończonego"
   ]
  },
  {
   "cell_type": "code",
   "execution_count": 6,
   "id": "a4a955c5",
   "metadata": {},
   "outputs": [],
   "source": [
    "class fa_algorithm:\n",
    "    def __init__(self, text, pattern):\n",
    "        self.text = text\n",
    "        self.pattern = pattern\n",
    "        self.alphabet = self.get_alphabet()\n",
    "        self.time_start = None\n",
    "        self.time_preprocessed = None\n",
    "        self.time_end = None\n",
    "    \n",
    "    def get_alphabet(self):\n",
    "        alphabet = []\n",
    "        for sign in self.text:\n",
    "            if sign not in alphabet:\n",
    "                alphabet.append(sign)\n",
    "\n",
    "        for sign in self.pattern:\n",
    "            if sign not in alphabet:\n",
    "                alphabet.append(sign)\n",
    "        return alphabet\n",
    "        \n",
    "    def __get_delta(self):\n",
    "        delta = []\n",
    "\n",
    "        for i in range(len(self.pattern) + 1):\n",
    "            delta.append({})\n",
    "            for sign in self.alphabet:\n",
    "                state = min(i + 1, len(self.pattern))\n",
    "                while state > 0 and self.pattern[:state] != (self.pattern[:i] + sign)[-state:]:\n",
    "                    state -= 1\n",
    "                delta[i][sign] = state\n",
    "        return delta\n",
    "    \n",
    "    def finite_state_machine_string_matching(self):    \n",
    "        positive_shifts = []\n",
    "        delta = self.__get_delta()\n",
    "        \n",
    "        self.time_preprocessed = time.time()\n",
    "        \n",
    "        state = 0\n",
    "        accepting_state = len(delta) - 1\n",
    "\n",
    "        for i in range(len(self.text)):\n",
    "            state = delta[state][self.text[i]]\n",
    "            if state == accepting_state:\n",
    "                positive_shifts.append(i + 1 - state)\n",
    "                \n",
    "        return positive_shifts\n",
    "    \n",
    "    def solve(self):\n",
    "        self.time_start = time.time()\n",
    "        result = self.finite_state_machine_string_matching()\n",
    "        self.time_end = time.time()\n",
    "        \n",
    "        time_of_preprocessing = self.time_preprocessed - self.time_start\n",
    "        time_of_searching = self.time_end - self.time_preprocessed\n",
    "        return result, time_of_preprocessing, time_of_searching"
   ]
  },
  {
   "cell_type": "markdown",
   "id": "59a244e8",
   "metadata": {},
   "source": [
    "## 3. Algorytm Knutha-Morrisa-Pratta"
   ]
  },
  {
   "cell_type": "code",
   "execution_count": 7,
   "id": "61043778",
   "metadata": {},
   "outputs": [],
   "source": [
    "class kmp_algorithm:\n",
    "    def __init__(self, text, pattern):\n",
    "        self.text = text\n",
    "        self.pattern = pattern\n",
    "        self.time_preprocessed = None\n",
    "        \n",
    "    def __prefix_function(self):\n",
    "        prefix_length_list = [0]\n",
    "        prefix_length = 0\n",
    "\n",
    "        for i in range(1, len(self.pattern)):\n",
    "            while prefix_length > 0 and \\\n",
    "                    self.pattern[prefix_length] != self.pattern[i]:\n",
    "                prefix_length = prefix_length_list[prefix_length - 1]\n",
    "            if self.pattern[prefix_length] == self.pattern[i]:\n",
    "                prefix_length += 1\n",
    "            prefix_length_list.append(prefix_length)\n",
    "        return prefix_length_list\n",
    "    \n",
    "    def knut_morris_pratt_string_matching(self):\n",
    "        positive_shifts = []\n",
    "        prefix_length_list = self.__prefix_function()\n",
    "        self.time_preprocessed = time.time()\n",
    "        prefix_length = 0\n",
    "\n",
    "        for i in range(len(self.text)):\n",
    "            while prefix_length > 0 and self.pattern[prefix_length] != self.text[i]:\n",
    "                prefix_length = prefix_length_list[prefix_length - 1]\n",
    "            if self.pattern[prefix_length] == self.text[i]:\n",
    "                prefix_length += 1\n",
    "            if prefix_length == len(self.pattern):\n",
    "                positive_shifts.append(i + 1 - prefix_length)\n",
    "                prefix_length = prefix_length_list[prefix_length - 1]\n",
    "        return positive_shifts\n",
    "    \n",
    "    def solve(self):\n",
    "        time_start = time.time()\n",
    "        result = self.knut_morris_pratt_string_matching()\n",
    "        time_end = time.time()\n",
    "        \n",
    "        time_of_preprocessing = self.time_preprocessed - time_start\n",
    "        time_of_searching = time_end - self.time_preprocessed\n",
    "        return result, time_of_preprocessing, time_of_searching"
   ]
  },
  {
   "cell_type": "markdown",
   "id": "e0159384",
   "metadata": {},
   "source": [
    "# Otwieramy plik i zamieniamy go na tekst"
   ]
  },
  {
   "cell_type": "code",
   "execution_count": 8,
   "id": "f0ce6a39",
   "metadata": {},
   "outputs": [],
   "source": [
    "file = open(\"pan-tadeusz.txt\", \"r\", encoding=\"utf-8\")\n",
    "text = \"\"\n",
    "for line in file:\n",
    "    text += line"
   ]
  },
  {
   "cell_type": "markdown",
   "id": "3dabe6c1",
   "metadata": {},
   "source": [
    "# Tworzymy dwa poszukiwane wzorce"
   ]
  },
  {
   "cell_type": "code",
   "execution_count": 9,
   "id": "7ed0e7fd",
   "metadata": {},
   "outputs": [],
   "source": [
    "pattern1 = \"pan\"\n",
    "pattern2 = \"pani\""
   ]
  },
  {
   "cell_type": "markdown",
   "id": "9067c36f",
   "metadata": {},
   "source": [
    "# Tworzymy obiekty odpowiednich klas dla każdej unikalnej pary algorytm-wzorzec"
   ]
  },
  {
   "cell_type": "code",
   "execution_count": 10,
   "id": "92dc45b9",
   "metadata": {},
   "outputs": [],
   "source": [
    "N1 = naive_algorithm(text, pattern1)\n",
    "N2 = naive_algorithm(text, pattern2)\n",
    "FA1 = fa_algorithm(text, pattern1)\n",
    "FA2 = fa_algorithm(text, pattern2)\n",
    "KMP1 = kmp_algorithm(text, pattern1)\n",
    "KMP2 = kmp_algorithm(text, pattern2)"
   ]
  },
  {
   "cell_type": "markdown",
   "id": "a470ee8b",
   "metadata": {},
   "source": [
    "# Algorytm naiwny - liczba znalezionych wzorców w tekście"
   ]
  },
  {
   "cell_type": "code",
   "execution_count": 11,
   "id": "f443e532",
   "metadata": {},
   "outputs": [
    {
     "name": "stdout",
     "output_type": "stream",
     "text": [
      "liczba wystąpień \"pan\": 401\n",
      "liczba wystąpień \"pani\": 100\n"
     ]
    }
   ],
   "source": [
    "print(\"liczba wystąpień \\\"pan\\\":\",len(N1.solve()[0]))\n",
    "print(\"liczba wystąpień \\\"pani\\\":\",len(N2.solve()[0]))"
   ]
  },
  {
   "cell_type": "markdown",
   "id": "e167c177",
   "metadata": {},
   "source": [
    "# Algorytm automatu skończonego - liczba znalezionych wzorców w tekście"
   ]
  },
  {
   "cell_type": "code",
   "execution_count": 12,
   "id": "336a204d",
   "metadata": {},
   "outputs": [
    {
     "name": "stdout",
     "output_type": "stream",
     "text": [
      "liczba wystąpień \"pan\": 401\n",
      "liczba wystąpień \"pani\": 100\n"
     ]
    }
   ],
   "source": [
    "print(\"liczba wystąpień \\\"pan\\\":\",len(FA1.solve()[0]))\n",
    "print(\"liczba wystąpień \\\"pani\\\":\",len(FA2.solve()[0]))"
   ]
  },
  {
   "cell_type": "markdown",
   "id": "21ba37e4",
   "metadata": {},
   "source": [
    "# Algorytm Knutha-Morrisa-Pratta - liczba znalezionych wzorców w tekście"
   ]
  },
  {
   "cell_type": "code",
   "execution_count": 13,
   "id": "53a845d9",
   "metadata": {},
   "outputs": [
    {
     "name": "stdout",
     "output_type": "stream",
     "text": [
      "liczba wystąpień \"pan\": 401\n",
      "liczba wystąpień \"pani\": 100\n"
     ]
    }
   ],
   "source": [
    "print(\"liczba wystąpień \\\"pan\\\":\",len(KMP1.solve()[0]))\n",
    "print(\"liczba wystąpień \\\"pani\\\":\",len(KMP2.solve()[0]))"
   ]
  },
  {
   "cell_type": "markdown",
   "id": "b28a70ec",
   "metadata": {},
   "source": [
    "# Sprawdzenie, że wszystkie znalezione wzorce są takie same dla różych algorytmów"
   ]
  },
  {
   "cell_type": "code",
   "execution_count": 14,
   "id": "7fedaad8",
   "metadata": {},
   "outputs": [
    {
     "name": "stdout",
     "output_type": "stream",
     "text": [
      "True\n"
     ]
    }
   ],
   "source": [
    "print(FA1.solve()[0] == KMP1.solve()[0] and FA1.solve()[0] == N1.solve()[0])  "
   ]
  },
  {
   "cell_type": "code",
   "execution_count": 15,
   "id": "0098e1e0",
   "metadata": {
    "scrolled": true
   },
   "outputs": [
    {
     "name": "stdout",
     "output_type": "stream",
     "text": [
      "True\n"
     ]
    }
   ],
   "source": [
    "print(FA2.solve()[0] == KMP2.solve()[0] and FA2.solve()[0] == N2.solve()[0]) "
   ]
  },
  {
   "cell_type": "markdown",
   "id": "ed87b0d0",
   "metadata": {},
   "source": [
    "# Funkcja porównująca szybkość"
   ]
  },
  {
   "cell_type": "code",
   "execution_count": 40,
   "id": "b8266ae9",
   "metadata": {},
   "outputs": [],
   "source": [
    "def speed_test(algorithm_class_object, number_of_tests=10):\n",
    "    total_time_pre_proccessing = 0.0\n",
    "    max_time_pre_proccessing = 0.0\n",
    "    min_time_pre_proccessing = 10.0\n",
    "    total_time_matching = 0.0\n",
    "    max_time_matching = 0.0\n",
    "    min_time_matching = 10.0\n",
    "    for i in range(number_of_tests):\n",
    "        T = algorithm_class_object.solve()\n",
    "        total_time_pre_proccessing += T[1]\n",
    "        max_time_pre_proccessing = max(max_time_pre_proccessing, T[1])\n",
    "        min_time_pre_proccessing = min(min_time_pre_proccessing, T[1])\n",
    "        total_time_matching += T[2]\n",
    "        max_time_matching = max(max_time_matching, T[2])\n",
    "        min_time_matching = min(min_time_matching, T[2])\n",
    "    return [round(max_time_pre_proccessing, 4),\n",
    "            round(total_time_pre_proccessing / number_of_tests, 4),\n",
    "            round(min_time_pre_proccessing, 4),\n",
    "            round(max_time_matching, 4),\n",
    "            round(total_time_matching / number_of_tests, 4),\n",
    "            round(min_time_matching, 4)]"
   ]
  },
  {
   "cell_type": "markdown",
   "id": "e430bc46",
   "metadata": {},
   "source": [
    "# Tabele i wykresy z porównaniem szybkości"
   ]
  },
  {
   "cell_type": "markdown",
   "id": "638a5fd0",
   "metadata": {},
   "source": [
    "### tabela dla wzorca \"pan\""
   ]
  },
  {
   "cell_type": "code",
   "execution_count": 93,
   "id": "4d329b3f",
   "metadata": {
    "scrolled": true
   },
   "outputs": [
    {
     "name": "stdout",
     "output_type": "stream",
     "text": [
      "       max pre-processing  avg pre-processing  min pre-processing  \\\n",
      "Naive               0.000              0.0000                 0.0   \n",
      "FA                  0.001              0.0003                 0.0   \n",
      "KMP                 0.000              0.0000                 0.0   \n",
      "\n",
      "       max matching  avg matching  min matching  \n",
      "Naive        0.1070        0.1036        0.1019  \n",
      "FA           0.0463        0.0451        0.0442  \n",
      "KMP          0.0902        0.0866        0.0849  \n"
     ]
    }
   ],
   "source": [
    "N1_test = speed_test(N1)\n",
    "FA1_test = speed_test(FA1)\n",
    "KMP1_test = speed_test(KMP1)\n",
    "\n",
    "data = {\n",
    "    \"max pre-processing\": [N1_test[0], FA1_test[0], KMP1_test[0]],\n",
    "    \"avg pre-processing\": [N1_test[1], FA1_test[1], KMP1_test[1]],\n",
    "    \"min pre-processing\": [N1_test[2], FA1_test[2], KMP1_test[2]],\n",
    "    \"max matching\": [N1_test[3], FA1_test[3], KMP1_test[3]],\n",
    "    \"avg matching\": [N1_test[4], FA1_test[4], KMP1_test[4]],\n",
    "    \"min matching\": [N1_test[5], FA1_test[5], KMP1_test[5]]\n",
    "}\n",
    "\n",
    "df = pd.DataFrame(data, index = [\"Naive\", \"FA\", \"KMP\"])\n",
    "print(df)"
   ]
  },
  {
   "cell_type": "markdown",
   "id": "780891ee",
   "metadata": {},
   "source": [
    "### wykres czasów pre-processingu dla wzorca \"pan\""
   ]
  },
  {
   "cell_type": "code",
   "execution_count": 104,
   "id": "faf62990",
   "metadata": {},
   "outputs": [
    {
     "data": {
      "image/png": "[encoded data removed]",
      "text/plain": [
       "<Figure size 432x288 with 1 Axes>"
      ]
     },
     "metadata": {
      "needs_background": "light"
     },
     "output_type": "display_data"
    }
   ],
   "source": [
    "x = np.linspace(0, 5, 100)\n",
    "FA_max, = plt.plot(x, np.full(100, FA1_test[0]), label='FA_max', color='green')\n",
    "FA_avg, = plt.plot(x, np.full(100, FA1_test[1]), label='FA_avg', color='green')\n",
    "FA_min, = plt.plot(x, np.full(100, FA1_test[2]), label='FA_min', color='green')\n",
    "KMP_max, = plt.plot(x, np.full(100, KMP1_test[0]), label='KMP_max', color='blue')\n",
    "KMP_avg, = plt.plot(x, np.full(100, KMP1_test[1]), label='KMP_avg', color='blue')\n",
    "KMP_min, = plt.plot(x, np.full(100, KMP1_test[2]), label='KMP_min', color='blue')\n",
    "plt.legend(handles=[FA_max, FA_avg, FA_min, KMP_max, KMP_avg, KMP_min], loc='lower right')\n",
    "plt.show()"
   ]
  },
  {
   "cell_type": "markdown",
   "id": "86ea44b7",
   "metadata": {},
   "source": [
    "### wykres czasów dopasowywania dla wzorca \"pan\""
   ]
  },
  {
   "cell_type": "code",
   "execution_count": 105,
   "id": "8712ce1f",
   "metadata": {},
   "outputs": [
    {
     "data": {
      "image/png": "[encoded data removed]",
      "text/plain": [
       "<Figure size 432x288 with 1 Axes>"
      ]
     },
     "metadata": {
      "needs_background": "light"
     },
     "output_type": "display_data"
    }
   ],
   "source": [
    "x = np.linspace(0, 5, 100)\n",
    "naive_max, = plt.plot(x, np.full(100, N1_test[3]), label='naive_max', color='red')\n",
    "naive_avg, = plt.plot(x, np.full(100, N1_test[4]), label='naive_avg', color='red')\n",
    "naive_min, = plt.plot(x, np.full(100, N1_test[5]), label='naive_min', color='red')\n",
    "FA_max, = plt.plot(x, np.full(100, FA1_test[3]), label='FA_max', color='green')\n",
    "FA_avg, = plt.plot(x, np.full(100, FA1_test[4]), label='FA_avg', color='green')\n",
    "FA_min, = plt.plot(x, np.full(100, FA1_test[5]), label='FA_min', color='green')\n",
    "KMP_max, = plt.plot(x, np.full(100, KMP1_test[3]), label='KMP_max', color='blue')\n",
    "KMP_avg, = plt.plot(x, np.full(100, KMP1_test[4]), label='KMP_avg', color='blue')\n",
    "KMP_min, = plt.plot(x, np.full(100, KMP1_test[5]), label='KMP_min', color='blue')\n",
    "plt.legend(handles=[naive_max, naive_avg, naive_min, FA_max, FA_avg, FA_min, KMP_max, KMP_avg, KMP_min], loc='lower right')\n",
    "plt.show()"
   ]
  },
  {
   "cell_type": "markdown",
   "id": "dccf6621",
   "metadata": {},
   "source": [
    "## wzorzec \"pani\""
   ]
  },
  {
   "cell_type": "code",
   "execution_count": 46,
   "id": "fe567c78",
   "metadata": {},
   "outputs": [
    {
     "name": "stdout",
     "output_type": "stream",
     "text": [
      "       max pre-processing  avg pre-processing  min pre-processing  \\\n",
      "Naive               0.000              0.0000                 0.0   \n",
      "FA                  0.001              0.0005                 0.0   \n",
      "KMP                 0.000              0.0000                 0.0   \n",
      "\n",
      "       max matching  avg matching  min matching  \n",
      "Naive         0.111        0.1080        0.1060  \n",
      "FA            0.046        0.0445        0.0430  \n",
      "KMP           0.095        0.0926        0.0911  \n"
     ]
    }
   ],
   "source": [
    "N2_test = speed_test(N2)\n",
    "FA2_test = speed_test(FA2)\n",
    "KMP2_test = speed_test(KMP2)\n",
    "\n",
    "data = {\n",
    "    \"max pre-processing\": [N2_test[0], FA2_test[0], KMP2_test[0]],\n",
    "    \"avg pre-processing\": [N2_test[1], FA2_test[1], KMP2_test[1]],\n",
    "    \"min pre-processing\": [N2_test[2], FA2_test[2], KMP2_test[2]],\n",
    "    \"max matching\": [N2_test[3], FA2_test[3], KMP2_test[3]],\n",
    "    \"avg matching\": [N2_test[4], FA2_test[4], KMP2_test[4]],\n",
    "    \"min matching\": [N2_test[5], FA2_test[5], KMP2_test[5]]\n",
    "}\n",
    "\n",
    "df = pd.DataFrame(data, index = [\"Naive\", \"FA\", \"KMP\"])\n",
    "\n",
    "print(df)"
   ]
  },
  {
   "cell_type": "markdown",
   "id": "386a73b9",
   "metadata": {},
   "source": [
    "### wykres czasów pre-processingu dla wzorca \"pani\""
   ]
  },
  {
   "cell_type": "code",
   "execution_count": 106,
   "id": "dc7515e0",
   "metadata": {},
   "outputs": [
    {
     "data": {
      "image/png": "[encoded data removed]",
      "text/plain": [
       "<Figure size 432x288 with 1 Axes>"
      ]
     },
     "metadata": {
      "needs_background": "light"
     },
     "output_type": "display_data"
    }
   ],
   "source": [
    "x = np.linspace(0, 5, 100)\n",
    "FA_max, = plt.plot(x, np.full(100, FA2_test[0]), label='FA_max', color='green')\n",
    "FA_avg, = plt.plot(x, np.full(100, FA2_test[1]), label='FA_avg', color='green')\n",
    "FA_min, = plt.plot(x, np.full(100, FA2_test[2]), label='FA_min', color='green')\n",
    "KMP_max, = plt.plot(x, np.full(100, KMP2_test[0]), label='KMP_max', color='blue')\n",
    "KMP_avg, = plt.plot(x, np.full(100, KMP2_test[1]), label='KMP_avg', color='blue')\n",
    "KMP_min, = plt.plot(x, np.full(100, KMP2_test[2]), label='KMP_min', color='blue')\n",
    "plt.legend(handles=[FA_max, FA_avg, FA_min, KMP_max, KMP_avg, KMP_min], loc='lower right')\n",
    "plt.show()"
   ]
  },
  {
   "cell_type": "markdown",
   "id": "cc9da08c",
   "metadata": {},
   "source": [
    "### wykres czasów dopasowywania dla wzorca \"pani\""
   ]
  },
  {
   "cell_type": "code",
   "execution_count": 107,
   "id": "85713fc4",
   "metadata": {},
   "outputs": [
    {
     "data": {
      "image/png": "[encoded data removed]",
      "text/plain": [
       "<Figure size 432x288 with 1 Axes>"
      ]
     },
     "metadata": {
      "needs_background": "light"
     },
     "output_type": "display_data"
    }
   ],
   "source": [
    "x = np.linspace(0, 5, 100)\n",
    "naive_max, = plt.plot(x, np.full(100, N2_test[3]), label='naive_max', color='red')\n",
    "naive_avg, = plt.plot(x, np.full(100, N2_test[4]), label='naive_avg', color='red')\n",
    "naive_min, = plt.plot(x, np.full(100, N2_test[5]), label='naive_min', color='red')\n",
    "FA_max, = plt.plot(x, np.full(100, FA2_test[3]), label='FA_max', color='green')\n",
    "FA_avg, = plt.plot(x, np.full(100, FA2_test[4]), label='FA_avg', color='green')\n",
    "FA_min, = plt.plot(x, np.full(100, FA2_test[5]), label='FA_min', color='green')\n",
    "KMP_max, = plt.plot(x, np.full(100, KMP2_test[3]), label='KMP_max', color='blue')\n",
    "KMP_avg, = plt.plot(x, np.full(100, KMP2_test[4]), label='KMP_avg', color='blue')\n",
    "KMP_min, = plt.plot(x, np.full(100, KMP2_test[5]), label='KMP_min', color='blue')\n",
    "plt.legend(handles=[naive_max, naive_avg, naive_min, FA_max, FA_avg, FA_min, KMP_max, KMP_avg, KMP_min], loc='lower right')\n",
    "plt.show()"
   ]
  },
  {
   "cell_type": "markdown",
   "id": "e50a61ea",
   "metadata": {},
   "source": [
    "## Zaproponuj tekst oraz wzorzec, dla którego zmierzony czas działania algorytmów 2 oraz 3 (uwzględniający tylko dopasowanie, bez pre-processingu) będzie co najmniej 5-krotnie krótszy niż dla algorytmu naiwnego. Uruchom każdy algorytm na zadanym wzorcu i tekście, w celu sprawdzenia, czy zmierzony czas jest faktycznie co najmniej 5-krotnie krótszy (1p)."
   ]
  },
  {
   "cell_type": "code",
   "execution_count": 83,
   "id": "ef85d375",
   "metadata": {},
   "outputs": [],
   "source": [
    "test_text = \"a\" * 10_000_000\n",
    "test_pattern = \"a\" * 100_000\n",
    "\n",
    "N_test = naive_algorithm(test_text, test_pattern)\n",
    "FA_test = fa_algorithm(test_text, test_pattern)\n",
    "KMP_test = kmp_algorithm(test_text, test_pattern)"
   ]
  },
  {
   "cell_type": "code",
   "execution_count": 84,
   "id": "0baa8348",
   "metadata": {},
   "outputs": [
    {
     "name": "stdout",
     "output_type": "stream",
     "text": [
      "\n",
      "czas dopasowania:  60.7907030582428\n"
     ]
    }
   ],
   "source": [
    "T = N_test.solve()\n",
    "print(\"\\nczas dopasowania: \", T[2])"
   ]
  },
  {
   "cell_type": "code",
   "execution_count": 85,
   "id": "489baeaf",
   "metadata": {},
   "outputs": [
    {
     "name": "stdout",
     "output_type": "stream",
     "text": [
      "\n",
      "czas dopasowania:  2.3217899799346924\n"
     ]
    }
   ],
   "source": [
    "T = FA_test.solve()\n",
    "print(\"\\nczas dopasowania: \", T[2])"
   ]
  },
  {
   "cell_type": "code",
   "execution_count": 86,
   "id": "c9e0f9cd",
   "metadata": {},
   "outputs": [
    {
     "name": "stdout",
     "output_type": "stream",
     "text": [
      "\n",
      "czas dopasowania:  5.234312534332275\n"
     ]
    }
   ],
   "source": [
    "T = KMP_test.solve()\n",
    "print(\"\\nczas dopasowania: \", T[2])"
   ]
  },
  {
   "cell_type": "markdown",
   "id": "d6081929",
   "metadata": {},
   "source": [
    "## Przedstaw wnioski wynikające z przeprowadzonych eksperymentów, ze szczególnym uwzględnieniem praktycznych konsekwencji wynikających z różnic pomiędzy zaimplementowanymi algorytmami (1p)."
   ]
  },
  {
   "cell_type": "markdown",
   "id": "5f60cb81",
   "metadata": {},
   "source": [
    "- Pod względem czasu dopasowania algorytm automatu skończonego był najlepszy we wszystkich przeprowadzonych testach \n",
    "- Algorytm Knutha-Morrisa-Pratta potrzebował jednak zdecydowanie mniej czasu na proces pre-processoring niż algorytm FA, a co za tym idzie jeśli chodzi o czas całkowity to algorytm Knutha-Morrisa-Pratta był najlepszy\n",
    "- W przypadku losowego wzorca o dużej długości algorytm FA bardzo szybko spowalnia proces pre-processingu\n",
    "- jeśli zależy nam zatem na czasie dopsowania to najlepszym wyborem będzie algorytm automatu skończonego, natomiast jeśli chcemy zoptymalizować czas całkowity to lepiej do tego celu sprawdzi się algorytm Knutha-Morrisa-Pratta\n",
    "- Algorytm naiwny okazuje się dużo wolniejszy od dwóch pozostałych algorytmów kiedy długość szukanego wzorca jest duża\n",
    "- Dodatkowo kiedy tekst jest wielokrotnością wzorca zwiększanie długości wzorca o rząd wielkości nie powoduje wydłużenia się czasu dopasowania dla dwóch algorytmów z pre-processoringiem, natomiast algorytm naiwny zwiększa czas bardzo szybko z powodu rosnącego czasu dopasowywania"
   ]
  },
  {
   "cell_type": "code",
   "execution_count": null,
   "id": "ea3dc7ad",
   "metadata": {},
   "outputs": [],
   "source": []
  }
 ],
 "metadata": {
  "kernelspec": {
   "display_name": "Python 3 (ipykernel)",
   "language": "python",
   "name": "python3"
  },
  "language_info": {
   "codemirror_mode": {
    "name": "ipython",
    "version": 3
   },
   "file_extension": ".py",
   "mimetype": "text/x-python",
   "name": "python",
   "nbconvert_exporter": "python",
   "pygments_lexer": "ipython3",
   "version": "3.9.12"
  }
 },
 "nbformat": 4,
 "nbformat_minor": 5
}
