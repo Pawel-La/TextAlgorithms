{
 "cells": [
  {
   "cell_type": "markdown",
   "id": "0d132639",
   "metadata": {},
   "source": [
    "# Kompresja tekstu"
   ]
  },
  {
   "cell_type": "markdown",
   "id": "ab6064da",
   "metadata": {},
   "source": [
    "## Zadanie polega na implementacji dwóch algorytmów kompresji: \n",
    "- statycznego algorytmu Huffmana (2 p)\n",
    "- dynamicznego algorytmu Huffmana (3 p)"
   ]
  },
  {
   "cell_type": "markdown",
   "id": "53083c3b",
   "metadata": {},
   "source": [
    "### Dla każdego z algorytmów należy wykonać następujące zadania:\n",
    "1. Opracować format pliku przechowującego dane. Zwróć uwagę na dwie kwestie:\n",
    "    - Liczba bitów wynikowego pliku nie musi być podzielna przez 8, ale z dysku zawsze odczytujemy pełne bajty, dlatego ważne jest, aby jakoś rozwiązać ten problem. W przeciwnym razie po dekompresji można uzyskać nadmiarowe dane.\n",
    "    - Plik wynikowy musi być binarny, tzn. rozwiązanie nie może zakładać, że w pliku tym zapisywane są 0 i 1 jako znaki ASCII.\n",
    "2. Zaimplementować algorytm kompresji i dekompresji danych dla tego formatu pliku.\n",
    "3. Zmierzyć współczynnik kompresji (wyrażone w procentach: 1 - plik_skompresowany / plik_nieskompresowany) dla plików o rozmiarach: 1kB, 10kB, 100kB, 1MB, o różnej zawartości:\n",
    "    - wybrany przez Ciebie plik tekstowy z projektu Gutenberg,\n",
    "    - wybrany przez Ciebie plik z kodem źródłowym jądra Linuksa,\n",
    "    - plik ze znakami losowanymi z rozkładu jednostajnego - należy uwzględnić wszystkie 256 wartości, a nie tylko znaki drukowalne.\n",
    "4. W sumie w punkcie 3 należy przeprowadzić analizę dla łącznie 12 plików (4 rozmiary x 3 typy plików).\n",
    "5. Zmierzyć czas kompresji i dekompresji dla plików z punktu 3."
   ]
  },
  {
   "cell_type": "code",
   "execution_count": 149,
   "id": "911f8848",
   "metadata": {},
   "outputs": [],
   "source": [
    "import numpy as np\n",
    "from collections import deque\n",
    "from bitarray import bitarray\n",
    "from timeit import default_timer as timer\n",
    "import os"
   ]
  },
  {
   "cell_type": "markdown",
   "id": "bf4f93e0",
   "metadata": {},
   "source": [
    "### Statyczny algorytm Huffmana "
   ]
  },
  {
   "cell_type": "code",
   "execution_count": 150,
   "id": "7e74ac6e",
   "metadata": {},
   "outputs": [],
   "source": [
    "class Node:\n",
    "    def __init__(self, weight=0, char=None, left=None, right=None):\n",
    "        self.weight = weight\n",
    "        self.char = char\n",
    "        self.left = left\n",
    "        self.right = right"
   ]
  },
  {
   "cell_type": "code",
   "execution_count": 151,
   "id": "5a3e55cd",
   "metadata": {},
   "outputs": [],
   "source": [
    "def get_min_element_and_update_lists(leaves, internal_nodes):\n",
    "        if not len(leaves):\n",
    "            value = internal_nodes.popleft()\n",
    "            return value, leaves, internal_nodes\n",
    "        if not len(internal_nodes):\n",
    "            value = leaves.popleft()\n",
    "            return value, leaves, internal_nodes\n",
    "        if leaves[0].weight <= internal_nodes[0].weight:\n",
    "            value = leaves.popleft()\n",
    "            return value, leaves, internal_nodes\n",
    "        value = internal_nodes.popleft()\n",
    "        return value, leaves, internal_nodes\n",
    "\n",
    "class StaticHuffman:\n",
    "    def __init__(self, text):\n",
    "        self.text = text\n",
    "        self.set_weights()\n",
    "        self.root = self.create_tree()\n",
    "        self.codes = {}\n",
    "        self.set_codes(self.root, bitarray())\n",
    "        \n",
    "    def set_weights(self):\n",
    "        self.weights = {}\n",
    "        for letter in self.text:\n",
    "            if letter not in self.weights:\n",
    "                self.weights[letter] = 1\n",
    "            else:\n",
    "                self.weights[letter] += 1 \n",
    "    \n",
    "    def create_tree(self):\n",
    "        nodes = []\n",
    "        for char, weight in self.weights.items():\n",
    "            nodes.append(Node(char=char, weight=weight))\n",
    "        nodes.append(Node(char=\"end\", weight=0))\n",
    "        leaves = deque(sorted(nodes, key=lambda x: x.weight))\n",
    "        internal_nodes = deque()\n",
    "        while(len(leaves) + len(internal_nodes) > 1):\n",
    "            e1, leaves, internal_nodes = get_min_element_and_update_lists(leaves, internal_nodes)\n",
    "            e2, leaves, internal_nodes = get_min_element_and_update_lists(leaves, internal_nodes)\n",
    "            if e1.char:\n",
    "                internal_nodes.append( Node(weight=e1.weight + e2.weight, left=e1, right=e2) )\n",
    "            else:\n",
    "                internal_nodes.append( Node(weight=e1.weight + e2.weight, left=e2, right=e1) )\n",
    "            \n",
    "        return internal_nodes[0]\n",
    "    \n",
    "    def set_codes(self, node, code):\n",
    "        copy_code = code.copy()\n",
    "        if node.char:\n",
    "            self.codes[node.char] = copy_code\n",
    "            return\n",
    "        if node.left:\n",
    "            self.set_codes(node.left, copy_code + [0])\n",
    "        if node.right:\n",
    "            self.set_codes(node.right, copy_code + [1])\n",
    "    \n",
    "    def encode(self):\n",
    "        result = bitarray()\n",
    "        for char in self.text:\n",
    "            result.extend(self.codes[char])\n",
    "        result.extend(self.codes[\"end\"])\n",
    "        result += bitarray(8 - len(result) % 8)\n",
    "        return result\n",
    "    \n",
    "    def decode(self, encoded):\n",
    "        root = self.root\n",
    "        decoded = \"\"\n",
    "        for bit in encoded:\n",
    "            if root.char == \"end\":\n",
    "                break\n",
    "            if root.char:\n",
    "                if isinstance(root.char, int):\n",
    "                    decoded += chr(root.char)\n",
    "                else:\n",
    "                    decoded += root.char\n",
    "                root = self.root\n",
    "            if bit:\n",
    "                root = root.right\n",
    "            else:\n",
    "                root = root.left\n",
    "        return decoded"
   ]
  },
  {
   "cell_type": "markdown",
   "id": "be8e95fe",
   "metadata": {},
   "source": [
    "### TESTY"
   ]
  },
  {
   "cell_type": "code",
   "execution_count": 152,
   "id": "903931f8",
   "metadata": {},
   "outputs": [],
   "source": [
    "def get_compression_ratio_in_percentages(file, compressed_file):\n",
    "    original_size = os.path.getsize(file)\n",
    "    compressed_size = os.path.getsize(compressed_file)\n",
    "    return (1 - compressed_size / original_size) * 100"
   ]
  },
  {
   "cell_type": "code",
   "execution_count": 153,
   "id": "69d68083",
   "metadata": {},
   "outputs": [],
   "source": [
    "def compression_time_comparision(file, huffman, n=10):    \n",
    "    avg_time_encoding = 0\n",
    "    avg_time_decoding = 0\n",
    "    \n",
    "    for i in range(n):\n",
    "        start = timer()\n",
    "        result = huffman.encode()\n",
    "        end = timer()\n",
    "        avg_time_encoding += (end - start)\n",
    "        \n",
    "        start = timer()\n",
    "        huffman.decode(result)\n",
    "        end = timer()\n",
    "        avg_time_decoding += (end - start)\n",
    "    avg_time_encoding /= n\n",
    "    avg_time_decoding /= n\n",
    "    return avg_time_encoding, avg_time_decoding"
   ]
  },
  {
   "cell_type": "code",
   "execution_count": 154,
   "id": "7f57ac48",
   "metadata": {},
   "outputs": [],
   "source": [
    "def get_text(file, mode=\"r\"):\n",
    "    F = open(file, mode)\n",
    "    text = F.read()\n",
    "    return text"
   ]
  },
  {
   "cell_type": "code",
   "execution_count": 155,
   "id": "7b9f4bb0",
   "metadata": {},
   "outputs": [],
   "source": [
    "def compression_test(file, mode=\"r\"):\n",
    "    save_file = f\"static_compression_{file}.txt\"\n",
    "    text = get_text(file, mode)\n",
    "    static_huffman = StaticHuffman(text)\n",
    "    encoded = static_huffman.encode()\n",
    "    with open(save_file, \"wb+\") as f:\n",
    "        encoded.tofile(f)\n",
    "    static_compression = get_compression_ratio_in_percentages(file, save_file)\n",
    "    static_avg_time_encoding, static_avg_time_decoding = compression_time_comparision(file, static_huffman)\n",
    "    \n",
    "    print(f\"Stats for {file}:\\nFor Static Huffman:\\n\\tCompresion ratio: {round(static_compression,2)}%\")\n",
    "    print(f\"\\tAVG encoding time: {round(static_avg_time_encoding, 6)}\\n\\tAVG decoding time: {round(static_avg_time_decoding, 6)}\")"
   ]
  },
  {
   "cell_type": "markdown",
   "id": "20924c43",
   "metadata": {},
   "source": [
    "### Gutenberg"
   ]
  },
  {
   "cell_type": "code",
   "execution_count": 156,
   "id": "c746ed85",
   "metadata": {},
   "outputs": [
    {
     "name": "stdout",
     "output_type": "stream",
     "text": [
      "Stats for Gutenberg_1kB.txt:\n",
      "For Static Huffman:\n",
      "\tCompresion ratio: 41.32%\n",
      "\tAVG encoding time: 0.000119\n",
      "\tAVG decoding time: 0.000551\n"
     ]
    }
   ],
   "source": [
    "compression_test(\"Gutenberg_1kB.txt\")"
   ]
  },
  {
   "cell_type": "code",
   "execution_count": 157,
   "id": "60a7435e",
   "metadata": {},
   "outputs": [
    {
     "name": "stdout",
     "output_type": "stream",
     "text": [
      "Stats for Gutenberg_10kB.txt:\n",
      "For Static Huffman:\n",
      "\tCompresion ratio: 39.13%\n",
      "\tAVG encoding time: 0.00156\n",
      "\tAVG decoding time: 0.007611\n"
     ]
    }
   ],
   "source": [
    "compression_test(\"Gutenberg_10kB.txt\")"
   ]
  },
  {
   "cell_type": "code",
   "execution_count": 158,
   "id": "0087c763",
   "metadata": {},
   "outputs": [
    {
     "name": "stdout",
     "output_type": "stream",
     "text": [
      "Stats for Gutenberg_100kB.txt:\n",
      "For Static Huffman:\n",
      "\tCompresion ratio: 45.64%\n",
      "\tAVG encoding time: 0.014819\n",
      "\tAVG decoding time: 0.067409\n"
     ]
    }
   ],
   "source": [
    "compression_test(\"Gutenberg_100kB.txt\")"
   ]
  },
  {
   "cell_type": "code",
   "execution_count": 159,
   "id": "c9f25ed8",
   "metadata": {},
   "outputs": [
    {
     "name": "stdout",
     "output_type": "stream",
     "text": [
      "Stats for Gutenberg_1MB.txt:\n",
      "For Static Huffman:\n",
      "\tCompresion ratio: 54.11%\n",
      "\tAVG encoding time: 0.147626\n",
      "\tAVG decoding time: 0.63174\n"
     ]
    }
   ],
   "source": [
    "compression_test(\"Gutenberg_1MB.txt\")"
   ]
  },
  {
   "cell_type": "markdown",
   "id": "a6cced1b",
   "metadata": {},
   "source": [
    "### Linux"
   ]
  },
  {
   "cell_type": "code",
   "execution_count": 160,
   "id": "d26b254e",
   "metadata": {},
   "outputs": [
    {
     "name": "stdout",
     "output_type": "stream",
     "text": [
      "Stats for Linux_1kB.txt:\n",
      "For Static Huffman:\n",
      "\tCompresion ratio: 36.58%\n",
      "\tAVG encoding time: 0.000123\n",
      "\tAVG decoding time: 0.000571\n"
     ]
    }
   ],
   "source": [
    "compression_test(\"Linux_1kB.txt\")"
   ]
  },
  {
   "cell_type": "code",
   "execution_count": 161,
   "id": "9c6e03c1",
   "metadata": {},
   "outputs": [
    {
     "name": "stdout",
     "output_type": "stream",
     "text": [
      "Stats for Linux_10kB.txt:\n",
      "For Static Huffman:\n",
      "\tCompresion ratio: 38.35%\n",
      "\tAVG encoding time: 0.001525\n",
      "\tAVG decoding time: 0.007341\n"
     ]
    }
   ],
   "source": [
    "compression_test(\"Linux_10kB.txt\")"
   ]
  },
  {
   "cell_type": "code",
   "execution_count": 162,
   "id": "7cbe04ec",
   "metadata": {},
   "outputs": [
    {
     "name": "stdout",
     "output_type": "stream",
     "text": [
      "Stats for Linux_100kB.txt:\n",
      "For Static Huffman:\n",
      "\tCompresion ratio: 32.18%\n",
      "\tAVG encoding time: 0.01581\n",
      "\tAVG decoding time: 0.077388\n"
     ]
    }
   ],
   "source": [
    "compression_test(\"Linux_100kB.txt\")"
   ]
  },
  {
   "cell_type": "code",
   "execution_count": 163,
   "id": "0161142c",
   "metadata": {},
   "outputs": [
    {
     "name": "stdout",
     "output_type": "stream",
     "text": [
      "Stats for Linux_1MB.txt:\n",
      "For Static Huffman:\n",
      "\tCompresion ratio: 34.6%\n",
      "\tAVG encoding time: 0.154209\n",
      "\tAVG decoding time: 0.762303\n"
     ]
    }
   ],
   "source": [
    "compression_test(\"Linux_1MB.txt\")"
   ]
  },
  {
   "cell_type": "markdown",
   "id": "14d0ebfa",
   "metadata": {},
   "source": [
    "### All ASCII signs uniform distribution"
   ]
  },
  {
   "cell_type": "code",
   "execution_count": 164,
   "id": "31a64945",
   "metadata": {},
   "outputs": [],
   "source": [
    "def create_uniform_distribution_file(size):\n",
    "    file = open(f\"Uniform_distribution_{size}kB.txt\", \"wb\")\n",
    "    l = []\n",
    "    for i in range(size*1000):\n",
    "        l.append(int(np.random.uniform(256)))\n",
    "        \n",
    "    file.write(bytes(l))\n",
    "    file.close()"
   ]
  },
  {
   "cell_type": "code",
   "execution_count": 165,
   "id": "580d6e5e",
   "metadata": {},
   "outputs": [],
   "source": [
    "create_uniform_distribution_file(1)"
   ]
  },
  {
   "cell_type": "code",
   "execution_count": 166,
   "id": "0a219ff9",
   "metadata": {},
   "outputs": [],
   "source": [
    "create_uniform_distribution_file(10)"
   ]
  },
  {
   "cell_type": "code",
   "execution_count": 167,
   "id": "1da26fe8",
   "metadata": {},
   "outputs": [],
   "source": [
    "create_uniform_distribution_file(100)"
   ]
  },
  {
   "cell_type": "code",
   "execution_count": 168,
   "id": "554a85ac",
   "metadata": {},
   "outputs": [],
   "source": [
    "create_uniform_distribution_file(1000)"
   ]
  },
  {
   "cell_type": "code",
   "execution_count": 169,
   "id": "f1d3044d",
   "metadata": {},
   "outputs": [
    {
     "name": "stdout",
     "output_type": "stream",
     "text": [
      "Stats for Uniform_distribution_1kB.txt:\n",
      "For Static Huffman:\n",
      "\tCompresion ratio: 1.9%\n",
      "\tAVG encoding time: 0.000161\n",
      "\tAVG decoding time: 0.001127\n"
     ]
    }
   ],
   "source": [
    "compression_test(\"Uniform_distribution_1kB.txt\", \"br\")"
   ]
  },
  {
   "cell_type": "code",
   "execution_count": 170,
   "id": "da878704",
   "metadata": {},
   "outputs": [
    {
     "name": "stdout",
     "output_type": "stream",
     "text": [
      "Stats for Uniform_distribution_10kB.txt:\n",
      "For Static Huffman:\n",
      "\tCompresion ratio: 0.05%\n",
      "\tAVG encoding time: 0.001432\n",
      "\tAVG decoding time: 0.011125\n"
     ]
    }
   ],
   "source": [
    "compression_test(\"Uniform_distribution_10kB.txt\", \"br\")"
   ]
  },
  {
   "cell_type": "code",
   "execution_count": 171,
   "id": "9280e590",
   "metadata": {},
   "outputs": [
    {
     "name": "stdout",
     "output_type": "stream",
     "text": [
      "Stats for Uniform_distribution_100kB.txt:\n",
      "For Static Huffman:\n",
      "\tCompresion ratio: 0.01%\n",
      "\tAVG encoding time: 0.014351\n",
      "\tAVG decoding time: 0.111126\n"
     ]
    }
   ],
   "source": [
    "compression_test(\"Uniform_distribution_100kB.txt\", \"br\")"
   ]
  },
  {
   "cell_type": "code",
   "execution_count": 172,
   "id": "43c2843e",
   "metadata": {},
   "outputs": [
    {
     "name": "stdout",
     "output_type": "stream",
     "text": [
      "Stats for Uniform_distribution_1000kB.txt:\n",
      "For Static Huffman:\n",
      "\tCompresion ratio: 0.0%\n",
      "\tAVG encoding time: 0.140656\n",
      "\tAVG decoding time: 1.07448\n"
     ]
    }
   ],
   "source": [
    "compression_test(\"Uniform_distribution_1000kB.txt\", \"br\")"
   ]
  },
  {
   "cell_type": "code",
   "execution_count": null,
   "id": "2f008a76",
   "metadata": {},
   "outputs": [],
   "source": []
  }
 ],
 "metadata": {
  "kernelspec": {
   "display_name": "Python 3",
   "language": "python",
   "name": "python3"
  },
  "language_info": {
   "codemirror_mode": {
    "name": "ipython",
    "version": 3
   },
   "file_extension": ".py",
   "mimetype": "text/x-python",
   "name": "python",
   "nbconvert_exporter": "python",
   "pygments_lexer": "ipython3",
   "version": "3.9.12"
  }
 },
 "nbformat": 4,
 "nbformat_minor": 5
}
